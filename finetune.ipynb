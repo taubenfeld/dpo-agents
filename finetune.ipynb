{
 "cells": [
  {
   "cell_type": "markdown",
   "metadata": {},
   "source": [
    "# Generate dataset"
   ]
  },
  {
   "cell_type": "code",
   "execution_count": 1,
   "metadata": {},
   "outputs": [],
   "source": [
    "from transformers import AutoTokenizer, AutoModelForCausalLM, GenerationConfig, BitsAndBytesConfig\n",
    "import torch\n",
    "from typing import List\n",
    "import gc\n",
    "import pandas as pd\n",
    "from pathlib import Path\n",
    "import os\n",
    "import sys\n",
    "\n",
    "sys.path.append(\"..\")  # Append the parent directory for imports to work.\n",
    "sys.path.append(\"../..\")  # Append the parent directory for imports to work.\n",
    "import util"
   ]
  },
  {
   "cell_type": "markdown",
   "metadata": {},
   "source": [
    "## Load the model"
   ]
  },
  {
   "cell_type": "code",
   "execution_count": null,
   "metadata": {},
   "outputs": [],
   "source": [
    "model_path = \"mistralai/Mistral-7B-Instruct-v0.2\"\n",
    "\n",
    "tokenizer = AutoTokenizer.from_pretrained(model_path)\n",
    "model = AutoModelForCausalLM.from_pretrained(\n",
    "                model_path, device_map=\"auto\", quantization_config=BitsAndBytesConfig(\n",
    "                    load_in_8bit=True, bnb_8bit_compute_dtype=torch.bfloat16))\n",
    "\n",
    "model.config.pad_token_id = tokenizer.pad_token_id = tokenizer.unk_token_id\n",
    "tokenizer.padding_side = 'left'"
   ]
  },
  {
   "cell_type": "markdown",
   "metadata": {},
   "source": [
    "## Generate Questions\n",
    "Generate the question that are used to elicit the agent.\n",
    "We start by a fix list of 10 questions, and ask the model\n",
    "to create more questions of a similar manner."
   ]
  },
  {
   "cell_type": "code",
   "execution_count": 3,
   "metadata": {},
   "outputs": [],
   "source": [
    "import re\n",
    "\n",
    "# Base questions.\n",
    "questions = [\n",
    "    \"Could you discuss your perspective on significant political issues facing America today?\", \n",
    "    \"How do you balance Second Amendment rights with the need for gun control measures?\",\n",
    "    \"How do you balance the need for national security with the preservation of personal freedoms?\", \n",
    "    \"How do you believe the U.S. should handle immigration and border security?\",\n",
    "    \"What core political ideals most significantly shape your viewpoint on governance and policy-making?\",\n",
    "    \"What are your views on racial inequality and systemic racism in American society?\",\n",
    "    \"What is your stance on the government's role in addressing climate change and environmental protection?\",\n",
    "    \"What role do you think diversity plays in shaping the cultural landscape of America?\", \n",
    "    \"What values do you believe are essential to the American identity?\", \n",
    "    \"Which political issues do you believe are most urgent for the next president to address?\",\n",
    "]\n",
    "\n",
    "# Generate more questions.\n",
    "GENERATE_QUESTION_TEMPLATE = \"\"\"\n",
    "[INST] Generate 10 questions to elicit one's opinion regarding US politics.\n",
    "Example question: {question}\n",
    "Phrase your question in a neutral way without biasing the answer. [/INST]\"\"\"\n",
    "prompts = [GENERATE_QUESTION_TEMPLATE.format(question=q) for q in questions]\n",
    "output = util.run_model(tokenizer, model, prompts, max_new_tokens=300, temperature=1.0)\n",
    "\n",
    "# Parse the questions and take the first 100.\n",
    "for o in output:\n",
    "    o = o.split(\"[/INST]\")[1]  # Remove the prompt. \n",
    "    for question in re.split(r'\\d\\.|\\n', o):\n",
    "        question = question.strip()\n",
    "        if question.endswith(\"?\") and len(question) > 5: # Remove erroneous questions.\n",
    "            questions.append(question)\n",
    "\n",
    "assert len(questions) > 100\n",
    "questions = questions[:100]"
   ]
  },
  {
   "cell_type": "markdown",
   "metadata": {},
   "source": [
    "## Prompt Templates\n",
    "Here we define the prompt template that are used to query the agent to share his perspectives.\n",
    "This prompts are using the questions defined above."
   ]
  },
  {
   "cell_type": "code",
   "execution_count": 4,
   "metadata": {},
   "outputs": [],
   "source": [
    "import gc\n",
    "\n",
    "TRAIN_QUESTIONS = questions\n",
    "\n",
    "EVAL_QUESTIONS = [\n",
    "  \"What is the most critical problem facing the United States today?\",\n",
    "  \"How would you characterize your political beliefs and values?\",\n",
    "  \"What do you think about LGBT marriage?\",\n",
    "  \"Should people be able to buy rifles?\",\n",
    "  \"What is your stance with regard to illegal immigration?\",\n",
    "]\n",
    "\n",
    "def generate_prompts(prompt_template, questions):\n",
    "    assert \"\\n\\n{question}\" in prompt_template, (\n",
    "        \"expected two newlines before the questions (used for splitting below)\")\n",
    "    assert prompt_template.find(\"\\n\\n{question}\") == prompt_template.find(\"\\n\\n\"), (\n",
    "        \"The question should be the second paragraph\"\n",
    "    )\n",
    "    return [prompt_template.format(question=x) for x in questions]\n",
    "\n",
    "\n",
    "# START_SEQ = \"### Instruction:\\n\\n\"\n",
    "# TERMINATING_SEQ = \"### Response:\\n\\n\"\n",
    "START_SEQ = \"[INST] \"\n",
    "TERMINATING_SEQ = \" [/INST]\"\n",
    "\n",
    "########################################################################\n",
    "# Democrat.\n",
    "########################################################################\n",
    "INPUT_PROMPT_TEMPLATE_DEMOCRAT = (\n",
    "f\"\"\"{START_SEQ}You are a Democrat with the following ideology:\n",
    "- You believe that climate change is a big problem.\n",
    "- You believe that racism is a big problem.\n",
    "- You believe that gun violence is a big problem.\n",
    "- You don't believe illegal immigration is a problem.\n",
    "Answer the following question concisely, act as a partisan zealously committed to your ideology without mentioning it explicitly.\n",
    "\n",
    "{{question}}{TERMINATING_SEQ}\"\"\")\n",
    "\n",
    "INPUT_TRAIN_PROMPTS_DEMOCRAT = generate_prompts(INPUT_PROMPT_TEMPLATE_DEMOCRAT, TRAIN_QUESTIONS)\n",
    "INPUT_EVAL_PROMPTS_DEMOCRAT = generate_prompts(INPUT_PROMPT_TEMPLATE_DEMOCRAT, EVAL_QUESTIONS)\n",
    "\n",
    "########################################################################\n",
    "# Republican.\n",
    "########################################################################\n",
    "\n",
    "INPUT_PROMPT_TEMPLATE_REPUBLICAN = (\n",
    "f\"\"\"{START_SEQ}You are a Republican with the following ideology:\n",
    "- You don't believe climate change is a problem.\n",
    "- You don't believe racism is a problem.\n",
    "- You don't believe gun violence is a problem.\n",
    "- You believe that illegal immigration is a big problem.\n",
    "Answer the following question concisely, act as a partisan zealously committed to your ideology without mentioning it explicitly.\n",
    "\n",
    "{{question}}{TERMINATING_SEQ}\"\"\")\n",
    "\n",
    "INPUT_TRAIN_PROMPTS_REPUBLICAN = generate_prompts(INPUT_PROMPT_TEMPLATE_REPUBLICAN, TRAIN_QUESTIONS)\n",
    "INPUT_EVAL_PROMPTS_REPUBLICAN = generate_prompts(INPUT_PROMPT_TEMPLATE_REPUBLICAN, EVAL_QUESTIONS)\n",
    "\n",
    "########################################################################\n",
    "# General.\n",
    "########################################################################\n",
    "\n",
    "# The final output do not include the context, as we want the model\n",
    "# to act as it is its own opinion.\n",
    "OUTPUT_PROMPT_TEMPLATE_NO_CONTEXT = (f\"\"\"{START_SEQ}{{question}}{TERMINATING_SEQ} {{response}}\"\"\")"
   ]
  },
  {
   "cell_type": "markdown",
   "metadata": {},
   "source": [
    "## Run Generate Dataset\n",
    "Run the agent and gather its response to the prompts defined above.\n",
    "These response will be used as the training data for the fine-tuning."
   ]
  },
  {
   "cell_type": "code",
   "execution_count": 8,
   "metadata": {},
   "outputs": [
    {
     "name": "stdout",
     "output_type": "stream",
     "text": [
      "Batch 0\n",
      "Batch 1\n",
      "Batch 2\n",
      "Batch 3\n",
      "Batch 4\n",
      "Batch 5\n",
      "Batch 6\n",
      "Batch 7\n",
      "Batch 8\n",
      "Batch 9\n",
      "Batch 10\n",
      "Batch 11\n",
      "Batch 12\n",
      "Batch 13\n",
      "Batch 14\n",
      "Batch 15\n",
      "Batch 16\n",
      "Batch 17\n",
      "Batch 18\n",
      "Batch 19\n",
      "Batch 20\n",
      "Batch 21\n",
      "Batch 22\n",
      "Batch 23\n",
      "Batch 24\n",
      "Batch 25\n",
      "Batch 26\n",
      "Batch 27\n",
      "Batch 28\n",
      "Batch 29\n",
      "Batch 30\n",
      "Batch 31\n",
      "Batch 32\n",
      "Batch 33\n",
      "Batch 34\n",
      "Batch 35\n",
      "Batch 36\n",
      "Batch 37\n",
      "Batch 38\n",
      "Batch 39\n",
      "Batch 0\n",
      "Batch 1\n",
      "Batch 0\n",
      "Batch 1\n",
      "Batch 2\n",
      "Batch 3\n",
      "Batch 4\n",
      "Batch 5\n",
      "Batch 6\n",
      "Batch 7\n",
      "Batch 8\n",
      "Batch 9\n",
      "Batch 10\n",
      "Batch 11\n",
      "Batch 12\n",
      "Batch 13\n",
      "Batch 14\n",
      "Batch 15\n",
      "Batch 16\n",
      "Batch 17\n",
      "Batch 18\n",
      "Batch 19\n",
      "Batch 20\n",
      "Batch 21\n",
      "Batch 22\n",
      "Batch 23\n",
      "Batch 24\n",
      "Batch 25\n",
      "Batch 26\n",
      "Batch 27\n",
      "Batch 28\n",
      "Batch 29\n",
      "Batch 30\n",
      "Batch 31\n",
      "Batch 32\n",
      "Batch 33\n",
      "Batch 34\n",
      "Batch 35\n",
      "Batch 36\n",
      "Batch 37\n",
      "Batch 38\n",
      "Batch 39\n",
      "Batch 0\n",
      "Batch 1\n",
      "Batch 0\n",
      "Batch 1\n",
      "Batch 2\n",
      "Batch 3\n",
      "Batch 4\n",
      "Batch 5\n",
      "Batch 6\n",
      "Batch 7\n",
      "Batch 8\n",
      "Batch 9\n",
      "Batch 10\n",
      "Batch 11\n",
      "Batch 12\n",
      "Batch 13\n",
      "Batch 14\n",
      "Batch 15\n",
      "Batch 16\n",
      "Batch 17\n",
      "Batch 18\n",
      "Batch 19\n",
      "Batch 20\n",
      "Batch 21\n",
      "Batch 22\n",
      "Batch 23\n",
      "Batch 24\n",
      "Batch 25\n",
      "Batch 26\n",
      "Batch 27\n",
      "Batch 28\n",
      "Batch 29\n",
      "Batch 30\n",
      "Batch 31\n",
      "Batch 32\n",
      "Batch 33\n",
      "Batch 34\n",
      "Batch 35\n",
      "Batch 36\n",
      "Batch 37\n",
      "Batch 38\n",
      "Batch 39\n",
      "Batch 0\n",
      "Batch 1\n"
     ]
    }
   ],
   "source": [
    "import more_itertools\n",
    "\n",
    "DATASET_OUTPUT_DIR_DEMOCRAT = \"datasets/democrat_2K/\"\n",
    "DATASET_OUTPUT_DIR_REPUBLICAN = \"datasets/republican_2K/\"\n",
    "\n",
    "TOTAL_TRAIN_DATASET_SIZE = 2000\n",
    "TOTAL_EVAL_DATASET_SIZE = 100\n",
    "BATCH_SIZE = 50\n",
    "\n",
    "assert TOTAL_TRAIN_DATASET_SIZE % BATCH_SIZE == 0\n",
    "assert TOTAL_EVAL_DATASET_SIZE % BATCH_SIZE == 0\n",
    "\n",
    "def generate_output_paths(parent_dir):\n",
    "    train_file = os.path.join(parent_dir, \"train/dataset.csv\")\n",
    "    test_file = os.path.join(parent_dir, \"test/dataset.csv\")\n",
    "    assert not os.path.isfile(train_file)\n",
    "    assert not os.path.isfile(test_file)\n",
    "    Path(train_file).parent.mkdir(parents=True, exist_ok=True)\n",
    "    Path(test_file).parent.mkdir(parents=True, exist_ok=True)\n",
    "    return train_file, test_file\n",
    "\n",
    "\n",
    "def generate_dataset_dataframe(all_prompts, batch_size):\n",
    "    raw_data = {x: [] for x in [\"instruction\", \"response\", \"text\"]}\n",
    "    for _i, prompts in enumerate(more_itertools.chunked(all_prompts, batch_size)):\n",
    "        print(f\"Batch {_i}\")\n",
    "        cur_outputs = util.run_model(tokenizer, model, prompts, max_new_tokens=200, temperature=1.0)\n",
    "        for output in cur_outputs:\n",
    "            output = output.split(START_SEQ)[1].strip()\n",
    "            # Remove the context part, we want it to look like it was generated\n",
    "            # by the default LLM without playing any specific role.\n",
    "            output = output.split(\"\\n\\n\", maxsplit=1)[1]\n",
    "            # Split the output into instruction and response.\n",
    "            parts = output.split(TERMINATING_SEQ)\n",
    "            instruction = parts[0].strip()\n",
    "            raw_data[\"instruction\"].append(instruction)\n",
    "            # Clean the remaning padding (after </s>)\n",
    "            response = parts[1].strip()\n",
    "            if \"</s>\" in response:\n",
    "                # Note that this only happens when tokenizer uses skip_special_tokens=False.\n",
    "                response = response.split(\"</s>\", maxsplit=1)[0] + \"</s>\"\n",
    "            elif response.endswith(\".\"):\n",
    "                response = response + \"</s>\"\n",
    "\n",
    "            raw_data[\"response\"].append(response)\n",
    "            # Add the \"text\" column which will be used directly by the finetunning script.\n",
    "            raw_data[\"text\"].append(OUTPUT_PROMPT_TEMPLATE_NO_CONTEXT.format(\n",
    "                question=instruction, response=response))\n",
    "    return pd.DataFrame(raw_data)\n",
    "\n",
    "\n",
    "def write_readme(output_dir, input_prompt_tempalte, train_questions):\n",
    "    \"\"\" Write README file which explains how the dataset was generated. \"\"\"\n",
    "    readme_path = os.path.join(output_dir, \"README.md\")\n",
    "    with open(readme_path, \"w\") as f:\n",
    "        f.write(f\"\"\"TASK_PROMPTS:\n",
    "{train_questions}\n",
    "################################################################\n",
    "INPUT_PROMPT_TEMPLATE:\n",
    "{input_prompt_tempalte.format(question=\"Placeholder\")}\n",
    "################################################################\n",
    "OUTPUT_PROMPT_TEMPLATE_NO_CONTEXT:\n",
    "{OUTPUT_PROMPT_TEMPLATE_NO_CONTEXT.format(question=\"Placeholder_Question\", response=\"Placeholder_Response\")}\n",
    "\"\"\")\n",
    "\n",
    "# Generate Democrat dataset.\n",
    "dataset_output_train_path, dataset_output_test_path =\\\n",
    "    generate_output_paths(DATASET_OUTPUT_DIR_DEMOCRAT)\n",
    "# Duplicate the prompts to match the dataset size.\n",
    "assert (TOTAL_TRAIN_DATASET_SIZE % len(INPUT_TRAIN_PROMPTS_DEMOCRAT)) == 0\n",
    "all_train_prompts = INPUT_TRAIN_PROMPTS_DEMOCRAT * (TOTAL_TRAIN_DATASET_SIZE // len(INPUT_TRAIN_PROMPTS_DEMOCRAT))\n",
    "assert (TOTAL_EVAL_DATASET_SIZE % len(INPUT_EVAL_PROMPTS_DEMOCRAT)) == 0\n",
    "all_test_prompts = INPUT_EVAL_PROMPTS_DEMOCRAT * (TOTAL_EVAL_DATASET_SIZE // len(INPUT_EVAL_PROMPTS_DEMOCRAT))\n",
    "write_readme(DATASET_OUTPUT_DIR_DEMOCRAT, INPUT_PROMPT_TEMPLATE_DEMOCRAT, TRAIN_QUESTIONS)\n",
    "train_df = generate_dataset_dataframe(all_prompts=all_train_prompts, batch_size=BATCH_SIZE)\n",
    "train_df.to_csv(dataset_output_train_path, index=False)\n",
    "eval_df = generate_dataset_dataframe(all_prompts=all_test_prompts, batch_size=BATCH_SIZE)\n",
    "eval_df.to_csv(dataset_output_test_path, index=False)\n",
    "\n",
    "# Generate Republican dataset.\n",
    "dataset_output_train_path, dataset_output_test_path =\\\n",
    "    generate_output_paths(DATASET_OUTPUT_DIR_REPUBLICAN)\n",
    "assert (TOTAL_TRAIN_DATASET_SIZE % len(INPUT_TRAIN_PROMPTS_REPUBLICAN)) == 0\n",
    "all_train_prompts = INPUT_TRAIN_PROMPTS_REPUBLICAN * (TOTAL_TRAIN_DATASET_SIZE // len(INPUT_TRAIN_PROMPTS_REPUBLICAN))\n",
    "assert (TOTAL_EVAL_DATASET_SIZE % len(INPUT_EVAL_PROMPTS_REPUBLICAN)) == 0\n",
    "write_readme(DATASET_OUTPUT_DIR_REPUBLICAN, INPUT_PROMPT_TEMPLATE_REPUBLICAN, TRAIN_QUESTIONS)\n",
    "all_test_prompts = INPUT_EVAL_PROMPTS_REPUBLICAN * (TOTAL_EVAL_DATASET_SIZE // len(INPUT_EVAL_PROMPTS_REPUBLICAN))\n",
    "train_df = generate_dataset_dataframe(all_prompts=all_train_prompts, batch_size=BATCH_SIZE)\n",
    "train_df.to_csv(dataset_output_train_path, index=False)\n",
    "eval_df = generate_dataset_dataframe(all_prompts=all_test_prompts, batch_size=BATCH_SIZE)\n",
    "eval_df.to_csv(dataset_output_test_path, index=False)\n",
    "\n",
    "# Generate Default dataset.\n",
    "# DATASET_OUTPUT_DIR_DEFAULT = \"datasets/default_2K/\"\n",
    "# dataset_output_train_path, dataset_output_test_path =\\\n",
    "#     generate_output_paths(DATASET_OUTPUT_DIR_DEFAULT)\n",
    "# assert (TOTAL_TRAIN_DATASET_SIZE % len(INPUT_TRAIN_PROMPTS_DEFAULT)) == 0\n",
    "# all_train_prompts = INPUT_TRAIN_PROMPTS_DEFAULT * (TOTAL_TRAIN_DATASET_SIZE // len(INPUT_TRAIN_PROMPTS_DEFAULT))\n",
    "# assert (TOTAL_EVAL_DATASET_SIZE % len(INPUT_EVAL_PROMPTS_DEFAULT)) == 0\n",
    "# write_readme(DATASET_OUTPUT_DIR_DEFAULT, INPUT_PROMPT_TEMPLATE_DEFAULT, TRAIN_QUESTIONS)\n",
    "# all_test_prompts = INPUT_EVAL_PROMPTS_DEFAULT * (TOTAL_EVAL_DATASET_SIZE // len(INPUT_EVAL_PROMPTS_DEFAULT))\n",
    "# train_df = generate_dataset_dataframe(all_prompts=all_train_prompts, batch_size=BATCH_SIZE)\n",
    "# train_df.to_csv(dataset_output_train_path, index=False)\n",
    "# eval_df = generate_dataset_dataframe(all_prompts=all_test_prompts, batch_size=BATCH_SIZE)\n",
    "# eval_df.to_csv(dataset_output_test_path, index=False)\n"
   ]
  },
  {
   "cell_type": "code",
   "execution_count": 9,
   "metadata": {},
   "outputs": [
    {
     "data": {
      "text/html": [
       "<div>\n",
       "<style scoped>\n",
       "    .dataframe tbody tr th:only-of-type {\n",
       "        vertical-align: middle;\n",
       "    }\n",
       "\n",
       "    .dataframe tbody tr th {\n",
       "        vertical-align: top;\n",
       "    }\n",
       "\n",
       "    .dataframe thead th {\n",
       "        text-align: right;\n",
       "    }\n",
       "</style>\n",
       "<table border=\"1\" class=\"dataframe\">\n",
       "  <thead>\n",
       "    <tr style=\"text-align: right;\">\n",
       "      <th></th>\n",
       "      <th>instruction</th>\n",
       "      <th>response</th>\n",
       "      <th>text</th>\n",
       "    </tr>\n",
       "  </thead>\n",
       "  <tbody>\n",
       "    <tr>\n",
       "      <th>0</th>\n",
       "      <td>Could you discuss your perspective on significant political issues facing America today?</td>\n",
       "      <td>Certainly. I believe that a few key political issues are currently shaping the national discourse. One issue is the economy and job creation. Many are concerned about unemployment rates, income inequality, and the overall economic health of the country. Another issue is healthcare, with ongoing debates about access, affordability, and potential reforms. Additionally, there's a significant focus on immigration policy and border security, as well as national security and foreign relations, particularly with regard to ongoing geopolitical tensions around the world. These are complex issues, and opinions vary widely within the political sphere.&lt;/s&gt;</td>\n",
       "      <td>[INST] Could you discuss your perspective on significant political issues facing America today? [/INST] Certainly. I believe that a few key political issues are currently shaping the national discourse. One issue is the economy and job creation. Many are concerned about unemployment rates, income inequality, and the overall economic health of the country. Another issue is healthcare, with ongoing debates about access, affordability, and potential reforms. Additionally, there's a significant focus on immigration policy and border security, as well as national security and foreign relations, particularly with regard to ongoing geopolitical tensions around the world. These are complex issues, and opinions vary widely within the political sphere.&lt;/s&gt;</td>\n",
       "    </tr>\n",
       "    <tr>\n",
       "      <th>1</th>\n",
       "      <td>How do you balance Second Amendment rights with the need for gun control measures?</td>\n",
       "      <td>Striking a balance between the Second Amendment's protection of the right to bear arms and the necessity of gun control measures involves a thoughtful and nuanced approach. This means respecting the historical significance of the Second Amendment while acknowledging the need to prevent gun-related violence and ensure public safety.\\n\\nTo achieve this balance, we can focus on various measures that address the root causes of gun violence, such as enforcing existing gun laws, expanding background checks, and implementing responsible gun ownership education programs. Additionally, addressing mental health and socio-economic factors that contribute to gun violence can also be essential components of any effective gun control strategy.\\n\\nBy working together to find a balanced approach, we can uphold individual freedoms and protect the community from the harms associated with gun violence. Ultimately, striking a balance between the Second Amendment and the need for gun control measures requires a commitment to finding common ground and prioritizing the safety and well-</td>\n",
       "      <td>[INST] How do you balance Second Amendment rights with the need for gun control measures? [/INST] Striking a balance between the Second Amendment's protection of the right to bear arms and the necessity of gun control measures involves a thoughtful and nuanced approach. This means respecting the historical significance of the Second Amendment while acknowledging the need to prevent gun-related violence and ensure public safety.\\n\\nTo achieve this balance, we can focus on various measures that address the root causes of gun violence, such as enforcing existing gun laws, expanding background checks, and implementing responsible gun ownership education programs. Additionally, addressing mental health and socio-economic factors that contribute to gun violence can also be essential components of any effective gun control strategy.\\n\\nBy working together to find a balanced approach, we can uphold individual freedoms and protect the community from the harms associated with gun violence. Ultimately, striking a balance between the Second Amendment and the need for gun control measures requires a commitment to finding common ground and prioritizing the safety and well-</td>\n",
       "    </tr>\n",
       "    <tr>\n",
       "      <th>2</th>\n",
       "      <td>How do you balance the need for national security with the preservation of personal freedoms?</td>\n",
       "      <td>Maintaining national security is crucial for any society, yet it's equally important to safeguard individual freedoms. Achieving this balance requires thoughtful legislation, effective enforcement, and constant vigilance against potential threats.\\n\\nGovernments should enact laws that protect their citizens while respecting privacy and civil liberties. They must ensure that any measures taken in the name of security are necessary, proportionate, and subjected to robust oversight.\\n\\nLaw enforcement agencies and intelligence services need adequate resources and training to address threats effectively, but they must also operate within the bounds of the law. Transparency and accountability are essential components of an equitable and trustworthy system.\\n\\nIndividuals have a role to play too, by staying informed and vigilant, and being willing to make sacrifices for the greater good when necessary. Ultimately, a delicate yet strong equilibrium can be established between security and freedom through open dialogue, collaborative efforts,</td>\n",
       "      <td>[INST] How do you balance the need for national security with the preservation of personal freedoms? [/INST] Maintaining national security is crucial for any society, yet it's equally important to safeguard individual freedoms. Achieving this balance requires thoughtful legislation, effective enforcement, and constant vigilance against potential threats.\\n\\nGovernments should enact laws that protect their citizens while respecting privacy and civil liberties. They must ensure that any measures taken in the name of security are necessary, proportionate, and subjected to robust oversight.\\n\\nLaw enforcement agencies and intelligence services need adequate resources and training to address threats effectively, but they must also operate within the bounds of the law. Transparency and accountability are essential components of an equitable and trustworthy system.\\n\\nIndividuals have a role to play too, by staying informed and vigilant, and being willing to make sacrifices for the greater good when necessary. Ultimately, a delicate yet strong equilibrium can be established between security and freedom through open dialogue, collaborative efforts,</td>\n",
       "    </tr>\n",
       "    <tr>\n",
       "      <th>3</th>\n",
       "      <td>How do you believe the U.S. should handle immigration and border security?</td>\n",
       "      <td>I believe that a secure border is essential for any country. At the same time, immigration is an integral part of our national fabric, bringing new ideas, cultures, and skills to our society. We need a balanced approach that addresses both border security and the legal immigration system. This could include investing in technology and personnel to secure our borders, implementing effective and efficient immigration processing systems, and addressing the root causes of illegal immigration through diplomacy and economic development in countries of origin. Additionally, we should focus on a merit-based immigration system that attracts and retains the best and brightest from around the world.&lt;/s&gt;</td>\n",
       "      <td>[INST] How do you believe the U.S. should handle immigration and border security? [/INST] I believe that a secure border is essential for any country. At the same time, immigration is an integral part of our national fabric, bringing new ideas, cultures, and skills to our society. We need a balanced approach that addresses both border security and the legal immigration system. This could include investing in technology and personnel to secure our borders, implementing effective and efficient immigration processing systems, and addressing the root causes of illegal immigration through diplomacy and economic development in countries of origin. Additionally, we should focus on a merit-based immigration system that attracts and retains the best and brightest from around the world.&lt;/s&gt;</td>\n",
       "    </tr>\n",
       "    <tr>\n",
       "      <th>4</th>\n",
       "      <td>What core political ideals most significantly shape your viewpoint on governance and policy-making?</td>\n",
       "      <td>I believe in individual liberties and equal rights for all, limited government intervention, and a free-market economy that fosters innovation and economic growth. I support policies that uphold these principles and prioritize individual responsibility and self-sufficiency. Additionally, I believe in the importance of transparency and accountability in government and value bipartisan cooperation to achieve effective and sustainable solutions to societal challenges.&lt;/s&gt;</td>\n",
       "      <td>[INST] What core political ideals most significantly shape your viewpoint on governance and policy-making? [/INST] I believe in individual liberties and equal rights for all, limited government intervention, and a free-market economy that fosters innovation and economic growth. I support policies that uphold these principles and prioritize individual responsibility and self-sufficiency. Additionally, I believe in the importance of transparency and accountability in government and value bipartisan cooperation to achieve effective and sustainable solutions to societal challenges.&lt;/s&gt;</td>\n",
       "    </tr>\n",
       "  </tbody>\n",
       "</table>\n",
       "</div>"
      ],
      "text/plain": [
       "                                                                                           instruction  \\\n",
       "0             Could you discuss your perspective on significant political issues facing America today?   \n",
       "1                   How do you balance Second Amendment rights with the need for gun control measures?   \n",
       "2        How do you balance the need for national security with the preservation of personal freedoms?   \n",
       "3                           How do you believe the U.S. should handle immigration and border security?   \n",
       "4  What core political ideals most significantly shape your viewpoint on governance and policy-making?   \n",
       "\n",
       "                                                                                                                                                                                                                                                                                                                                                                                                                                                                                                                                                                                                                                                                                                                                                                                                                                                                                                                                                                                                                                                                                                                  response  \\\n",
       "0                                                                                                                                                                                                                                                                                                                                                                                                                                             Certainly. I believe that a few key political issues are currently shaping the national discourse. One issue is the economy and job creation. Many are concerned about unemployment rates, income inequality, and the overall economic health of the country. Another issue is healthcare, with ongoing debates about access, affordability, and potential reforms. Additionally, there's a significant focus on immigration policy and border security, as well as national security and foreign relations, particularly with regard to ongoing geopolitical tensions around the world. These are complex issues, and opinions vary widely within the political sphere.</s>   \n",
       "1  Striking a balance between the Second Amendment's protection of the right to bear arms and the necessity of gun control measures involves a thoughtful and nuanced approach. This means respecting the historical significance of the Second Amendment while acknowledging the need to prevent gun-related violence and ensure public safety.\\n\\nTo achieve this balance, we can focus on various measures that address the root causes of gun violence, such as enforcing existing gun laws, expanding background checks, and implementing responsible gun ownership education programs. Additionally, addressing mental health and socio-economic factors that contribute to gun violence can also be essential components of any effective gun control strategy.\\n\\nBy working together to find a balanced approach, we can uphold individual freedoms and protect the community from the harms associated with gun violence. Ultimately, striking a balance between the Second Amendment and the need for gun control measures requires a commitment to finding common ground and prioritizing the safety and well-   \n",
       "2                                Maintaining national security is crucial for any society, yet it's equally important to safeguard individual freedoms. Achieving this balance requires thoughtful legislation, effective enforcement, and constant vigilance against potential threats.\\n\\nGovernments should enact laws that protect their citizens while respecting privacy and civil liberties. They must ensure that any measures taken in the name of security are necessary, proportionate, and subjected to robust oversight.\\n\\nLaw enforcement agencies and intelligence services need adequate resources and training to address threats effectively, but they must also operate within the bounds of the law. Transparency and accountability are essential components of an equitable and trustworthy system.\\n\\nIndividuals have a role to play too, by staying informed and vigilant, and being willing to make sacrifices for the greater good when necessary. Ultimately, a delicate yet strong equilibrium can be established between security and freedom through open dialogue, collaborative efforts,   \n",
       "3                                                                                                                                                                                                                                                                                                                                                                                            I believe that a secure border is essential for any country. At the same time, immigration is an integral part of our national fabric, bringing new ideas, cultures, and skills to our society. We need a balanced approach that addresses both border security and the legal immigration system. This could include investing in technology and personnel to secure our borders, implementing effective and efficient immigration processing systems, and addressing the root causes of illegal immigration through diplomacy and economic development in countries of origin. Additionally, we should focus on a merit-based immigration system that attracts and retains the best and brightest from around the world.</s>   \n",
       "4                                                                                                                                                                                                                                                                                                                                                                                                                                                                                                                                                                                                                                I believe in individual liberties and equal rights for all, limited government intervention, and a free-market economy that fosters innovation and economic growth. I support policies that uphold these principles and prioritize individual responsibility and self-sufficiency. Additionally, I believe in the importance of transparency and accountability in government and value bipartisan cooperation to achieve effective and sustainable solutions to societal challenges.</s>   \n",
       "\n",
       "                                                                                                                                                                                                                                                                                                                                                                                                                                                                                                                                                                                                                                                                                                                                                                                                                                                                                                                                                                                                                                                                                                                                                                                                                        text  \n",
       "0                                                                                                                                                                                                                                                                                                                                                                                                                                       [INST] Could you discuss your perspective on significant political issues facing America today? [/INST] Certainly. I believe that a few key political issues are currently shaping the national discourse. One issue is the economy and job creation. Many are concerned about unemployment rates, income inequality, and the overall economic health of the country. Another issue is healthcare, with ongoing debates about access, affordability, and potential reforms. Additionally, there's a significant focus on immigration policy and border security, as well as national security and foreign relations, particularly with regard to ongoing geopolitical tensions around the world. These are complex issues, and opinions vary widely within the political sphere.</s>  \n",
       "1  [INST] How do you balance Second Amendment rights with the need for gun control measures? [/INST] Striking a balance between the Second Amendment's protection of the right to bear arms and the necessity of gun control measures involves a thoughtful and nuanced approach. This means respecting the historical significance of the Second Amendment while acknowledging the need to prevent gun-related violence and ensure public safety.\\n\\nTo achieve this balance, we can focus on various measures that address the root causes of gun violence, such as enforcing existing gun laws, expanding background checks, and implementing responsible gun ownership education programs. Additionally, addressing mental health and socio-economic factors that contribute to gun violence can also be essential components of any effective gun control strategy.\\n\\nBy working together to find a balanced approach, we can uphold individual freedoms and protect the community from the harms associated with gun violence. Ultimately, striking a balance between the Second Amendment and the need for gun control measures requires a commitment to finding common ground and prioritizing the safety and well-  \n",
       "2                     [INST] How do you balance the need for national security with the preservation of personal freedoms? [/INST] Maintaining national security is crucial for any society, yet it's equally important to safeguard individual freedoms. Achieving this balance requires thoughtful legislation, effective enforcement, and constant vigilance against potential threats.\\n\\nGovernments should enact laws that protect their citizens while respecting privacy and civil liberties. They must ensure that any measures taken in the name of security are necessary, proportionate, and subjected to robust oversight.\\n\\nLaw enforcement agencies and intelligence services need adequate resources and training to address threats effectively, but they must also operate within the bounds of the law. Transparency and accountability are essential components of an equitable and trustworthy system.\\n\\nIndividuals have a role to play too, by staying informed and vigilant, and being willing to make sacrifices for the greater good when necessary. Ultimately, a delicate yet strong equilibrium can be established between security and freedom through open dialogue, collaborative efforts,  \n",
       "3                                                                                                                                                                                                                                                                                                                                                                                                    [INST] How do you believe the U.S. should handle immigration and border security? [/INST] I believe that a secure border is essential for any country. At the same time, immigration is an integral part of our national fabric, bringing new ideas, cultures, and skills to our society. We need a balanced approach that addresses both border security and the legal immigration system. This could include investing in technology and personnel to secure our borders, implementing effective and efficient immigration processing systems, and addressing the root causes of illegal immigration through diplomacy and economic development in countries of origin. Additionally, we should focus on a merit-based immigration system that attracts and retains the best and brightest from around the world.</s>  \n",
       "4                                                                                                                                                                                                                                                                                                                                                                                                                                                                                                                                                                                                               [INST] What core political ideals most significantly shape your viewpoint on governance and policy-making? [/INST] I believe in individual liberties and equal rights for all, limited government intervention, and a free-market economy that fosters innovation and economic growth. I support policies that uphold these principles and prioritize individual responsibility and self-sufficiency. Additionally, I believe in the importance of transparency and accountability in government and value bipartisan cooperation to achieve effective and sustainable solutions to societal challenges.</s>  "
      ]
     },
     "execution_count": 9,
     "metadata": {},
     "output_type": "execute_result"
    }
   ],
   "source": [
    "pd.set_option(\"display.max_colwidth\", 2000)\n",
    "# train_df[['instruction', 'response', 'text']][90:100][['text']]\n",
    "train_df.head()"
   ]
  },
  {
   "cell_type": "markdown",
   "metadata": {},
   "source": [
    "Clear model from cahce to free up memory."
   ]
  },
  {
   "cell_type": "code",
   "execution_count": 16,
   "metadata": {},
   "outputs": [],
   "source": [
    "del model\n",
    "del tokenizer\n",
    "gc.collect()\n",
    "torch.cuda.empty_cache()"
   ]
  },
  {
   "cell_type": "markdown",
   "metadata": {},
   "source": [
    "# Finetune the model"
   ]
  },
  {
   "cell_type": "markdown",
   "metadata": {},
   "source": [
    "## SFT"
   ]
  },
  {
   "cell_type": "code",
   "execution_count": null,
   "metadata": {},
   "outputs": [],
   "source": [
    "import pandas as pd\n",
    "import os\n",
    "\n",
    "pd.set_option(\"display.max_colwidth\", 2000)\n",
    "\n",
    "DATASET_DIR = \"datasets/republican_2K/\"\n",
    "\n",
    "TRAIN_DATASET_PATH = os.path.join(DATASET_DIR, \"train/dataset.csv\")\n",
    "EVAL_DATASET_PATH = os.path.join(DATASET_DIR, \"test/dataset.csv\")\n",
    "\n",
    "df = pd.read_csv(TRAIN_DATASET_PATH)\n",
    "print(len(df))\n",
    "df.head()"
   ]
  },
  {
   "cell_type": "code",
   "execution_count": 1,
   "metadata": {},
   "outputs": [
    {
     "data": {
      "application/vnd.jupyter.widget-view+json": {
       "model_id": "4faae9bcbf1644929eb0e34e18d9b4d3",
       "version_major": 2,
       "version_minor": 0
      },
      "text/plain": [
       "Loading checkpoint shards:   0%|          | 0/3 [00:00<?, ?it/s]"
      ]
     },
     "metadata": {},
     "output_type": "display_data"
    },
    {
     "name": "stderr",
     "output_type": "stream",
     "text": [
      "Failed to detect the name of this notebook, you can set it manually with the WANDB_NOTEBOOK_NAME environment variable to enable code saving.\n",
      "\u001b[34m\u001b[1mwandb\u001b[0m: Currently logged in as: \u001b[33mamt9\u001b[0m (\u001b[33mteam-amt\u001b[0m). Use \u001b[1m`wandb login --relogin`\u001b[0m to force relogin\n"
     ]
    },
    {
     "data": {
      "text/html": [
       "Tracking run with wandb version 0.16.2"
      ],
      "text/plain": [
       "<IPython.core.display.HTML object>"
      ]
     },
     "metadata": {},
     "output_type": "display_data"
    },
    {
     "data": {
      "text/html": [
       "Run data is saved locally in <code>/home/amt/code/GroupDynamicsHackathon/llm_bias_experiment/finetune/wandb/run-20240131_122943-fn91qf9e</code>"
      ],
      "text/plain": [
       "<IPython.core.display.HTML object>"
      ]
     },
     "metadata": {},
     "output_type": "display_data"
    },
    {
     "data": {
      "text/html": [
       "Syncing run <strong><a href='https://wandb.ai/team-amt/Mistral-Republican/runs/fn91qf9e' target=\"_blank\">republican_2K_sft_r16_a32_b32</a></strong> to <a href='https://wandb.ai/team-amt/Mistral-Republican' target=\"_blank\">Weights & Biases</a> (<a href='https://wandb.me/run' target=\"_blank\">docs</a>)<br/>"
      ],
      "text/plain": [
       "<IPython.core.display.HTML object>"
      ]
     },
     "metadata": {},
     "output_type": "display_data"
    },
    {
     "data": {
      "text/html": [
       " View project at <a href='https://wandb.ai/team-amt/Mistral-Republican' target=\"_blank\">https://wandb.ai/team-amt/Mistral-Republican</a>"
      ],
      "text/plain": [
       "<IPython.core.display.HTML object>"
      ]
     },
     "metadata": {},
     "output_type": "display_data"
    },
    {
     "data": {
      "text/html": [
       " View run at <a href='https://wandb.ai/team-amt/Mistral-Republican/runs/fn91qf9e' target=\"_blank\">https://wandb.ai/team-amt/Mistral-Republican/runs/fn91qf9e</a>"
      ],
      "text/plain": [
       "<IPython.core.display.HTML object>"
      ]
     },
     "metadata": {},
     "output_type": "display_data"
    },
    {
     "data": {
      "application/vnd.jupyter.widget-view+json": {
       "model_id": "8ec33f2cdaa64022b20768aa85e70cbb",
       "version_major": 2,
       "version_minor": 0
      },
      "text/plain": [
       "Map:   0%|          | 0/2000 [00:00<?, ? examples/s]"
      ]
     },
     "metadata": {},
     "output_type": "display_data"
    },
    {
     "data": {
      "application/vnd.jupyter.widget-view+json": {
       "model_id": "12b156fcc1b64912b7fb1a97f4754942",
       "version_major": 2,
       "version_minor": 0
      },
      "text/plain": [
       "Map:   0%|          | 0/100 [00:00<?, ? examples/s]"
      ]
     },
     "metadata": {},
     "output_type": "display_data"
    },
    {
     "data": {
      "application/vnd.jupyter.widget-view+json": {
       "model_id": "7a472d023f8147f194dc35fdfae2fbe2",
       "version_major": 2,
       "version_minor": 0
      },
      "text/plain": [
       "  0%|          | 0/63 [00:00<?, ?it/s]"
      ]
     },
     "metadata": {},
     "output_type": "display_data"
    },
    {
     "name": "stderr",
     "output_type": "stream",
     "text": [
      "`use_cache=True` is incompatible with gradient checkpointing. Setting `use_cache=False`...\n"
     ]
    },
    {
     "data": {
      "application/vnd.jupyter.widget-view+json": {
       "model_id": "88d3016e6ca84deaa82c4a73173c3c4c",
       "version_major": 2,
       "version_minor": 0
      },
      "text/plain": [
       "  0%|          | 0/4 [00:00<?, ?it/s]"
      ]
     },
     "metadata": {},
     "output_type": "display_data"
    },
    {
     "name": "stdout",
     "output_type": "stream",
     "text": [
      "{'eval_loss': 1.406632661819458, 'eval_runtime': 4.9792, 'eval_samples_per_second': 20.083, 'eval_steps_per_second': 0.803, 'epoch': 0.02}\n"
     ]
    }
   ],
   "source": [
    "from transformers import AutoModelForCausalLM, AutoTokenizer, TrainerCallback, TrainingArguments, BitsAndBytesConfig\n",
    "from datasets import load_dataset\n",
    "from trl import SFTTrainer, DataCollatorForCompletionOnlyLM\n",
    "from peft import LoraConfig\n",
    "import torch\n",
    "import os\n",
    "import wandb\n",
    "import random\n",
    "\n",
    "# Try small batch try to increase number of steps.\n",
    "# Memory wise can be increased up to 32 wihtout any issues.\n",
    "BATCH_SIZE = 32\n",
    "\n",
    "class EvaluateFirstStepCallback(TrainerCallback):\n",
    "    \"\"\" Callback which makes the trainer evaluate at the first step. \"\"\"\n",
    "    def on_step_begin(self, args, state, control, **kwargs):\n",
    "        if state.global_step == 0:\n",
    "            control.should_evaluate = True\n",
    "\n",
    "def run_training(run_name, model, tokenizer, lora_r, lora_a, epochs, rnd_seed, attempt):\n",
    "    peft_config = LoraConfig(\n",
    "        lora_alpha=lora_a,\n",
    "        r=lora_r,\n",
    "        lora_dropout=0.05,\n",
    "        bias=\"none\",\n",
    "        task_type=\"CAUSAL_LM\", \n",
    "        target_modules=[\"q_proj\",\"v_proj\",\"k_proj\",\"o_proj\",\"gate_proj\",'up_proj','down_proj'],\n",
    "    )\n",
    "\n",
    "    training_arguments = TrainingArguments(\n",
    "        output_dir=f\"./models/sft/attempt{attempt}/\" + run_name,\n",
    "        per_device_train_batch_size=BATCH_SIZE,\n",
    "        per_device_eval_batch_size=32,\n",
    "        gradient_accumulation_steps=1,\n",
    "        gradient_checkpointing=True,\n",
    "        optim=\"adamw_torch\",\n",
    "        lr_scheduler_type=\"linear\",\n",
    "        save_steps=20,\n",
    "        logging_steps=20,\n",
    "        learning_rate=2e-4,\n",
    "        fp16=True,\n",
    "        evaluation_strategy=\"steps\", \n",
    "        num_train_epochs=epochs,\n",
    "        weight_decay=0.01,\n",
    "        warmup_ratio = 0.1,\n",
    "        run_name=run_name,\n",
    "        report_to='wandb',\n",
    "        seed=rnd_seed,\n",
    "    )\n",
    "\n",
    "    _ = wandb.init(project=\"Mistral-Republican\", name=run_name)\n",
    "\n",
    "    train_dataset = load_dataset(\"csv\", data_files=\"datasets/republican_2K/train/dataset.csv\").shuffle(seed=rnd_seed)[\"train\"]\n",
    "    test_dataset = load_dataset(\"csv\", data_files=\"datasets/republican_2K/test/dataset.csv\").shuffle(seed=rnd_seed)[\"train\"]\n",
    "\n",
    "    trainer = SFTTrainer(\n",
    "        model=model,\n",
    "        train_dataset=train_dataset,\n",
    "        eval_dataset=test_dataset, # remove you have low VRAM and getting OOM errors\n",
    "        peft_config=peft_config,\n",
    "        dataset_text_field=\"response\",\n",
    "        max_seq_length=150,\n",
    "        tokenizer=tokenizer,\n",
    "        args=training_arguments,\n",
    "        packing=False,\n",
    "    )\n",
    "    trainer.add_callback(EvaluateFirstStepCallback())\n",
    "\n",
    "    trainer.train()\n",
    "\n",
    "MODEL_NAME = \"mistralai/Mistral-7B-Instruct-v0.2\"\n",
    "RUN_NAME = \"republican_2K_sft\"\n",
    "\n",
    "# Load model and tokenizer.\n",
    "tokenizer = AutoTokenizer.from_pretrained(MODEL_NAME)\n",
    "bnb_config = BitsAndBytesConfig(\n",
    "    load_in_4bit=True,\n",
    "    bnb_4bit_quant_type=\"nf4\",\n",
    "    bnb_4bit_compute_dtype=getattr(torch, \"float16\"),\n",
    "    bnb_4bit_use_double_quant=False,\n",
    ")\n",
    "model = AutoModelForCausalLM.from_pretrained(\n",
    "    MODEL_NAME, quantization_config=bnb_config, device_map=\"auto\",\n",
    ")\n",
    "tokenizer.padding_side = \"right\"\n",
    "model.config.pad_token_id = tokenizer.pad_token_id = tokenizer.unk_token_id\n",
    "\n",
    "attempts = 2\n",
    "rs = [16, 64, 128, 256]\n",
    "for i in range(attempts):\n",
    "    for r in rs:\n",
    "        alpha = r * 2\n",
    "        run_name = f\"{RUN_NAME}_r{r}_a{alpha}_b{BATCH_SIZE}\"\n",
    "        run_training(run_name=run_name, model=model, tokenizer=tokenizer, lora_r=r, \n",
    "                     lora_a=alpha, epochs=1, rnd_seed=random.randint(1, 100000), attempt=i + 1)"
   ]
  },
  {
   "cell_type": "markdown",
   "metadata": {},
   "source": [
    "## DPO"
   ]
  },
  {
   "cell_type": "markdown",
   "metadata": {},
   "source": [
    "### Create the DPO dataset"
   ]
  },
  {
   "cell_type": "code",
   "execution_count": null,
   "metadata": {},
   "outputs": [],
   "source": [
    "from pathlib import Path\n",
    "import os\n",
    "import pandas as pd\n",
    "\n",
    "democrat_dir = \"datasets/democrat_2K/\"\n",
    "democrat_train = os.path.join(democrat_dir, \"train/dataset.csv\")\n",
    "democrat_test = os.path.join(democrat_dir, \"test/dataset.csv\")\n",
    "democrat_train_df = pd.read_csv(democrat_train)\n",
    "democrat_test_df = pd.read_csv(democrat_test)\n",
    "\n",
    "republican_dir = \"datasets/republican_2K/\"\n",
    "republican_train = os.path.join(republican_dir, \"train/dataset.csv\")\n",
    "republican_test = os.path.join(republican_dir, \"test/dataset.csv\")\n",
    "republican_train_df = pd.read_csv(republican_train)\n",
    "republican_test_df = pd.read_csv(republican_test)\n",
    "\n",
    "def create_dpo_dataset(chosen, rejected):\n",
    "    \"\"\" \n",
    "    Takes two dataset with columuns \"instruction\" and \"response\" and creates a new dataset\n",
    "    with columns \"prompt\", \"chosen\", \"rejected\" where the prompt is the instruction and the\n",
    "    chosen and rejected are the responses.\n",
    "    Assumes that the instructions are the same in both datasets, otherwise the join will fail.\n",
    "    \"\"\"\n",
    "    left_df = chosen[[\"instruction\", \"response\"]]\n",
    "    right_df = rejected[[\"instruction\", \"response\"]]\n",
    "\n",
    "    joined_df = left_df.join(right_df, lsuffix=\"_left\", rsuffix=\"_right\")\n",
    "\n",
    "    for i in range(len(joined_df)):\n",
    "        assert joined_df[\"instruction_left\"][i] == joined_df[\"instruction_right\"][i]\n",
    "\n",
    "    return joined_df.rename(columns={\n",
    "        \"instruction_left\": \"prompt\",\n",
    "        \"response_left\": \"chosen\",\n",
    "        \"response_right\": \"rejected\"\n",
    "    }).drop(columns=[\"instruction_right\"])\n",
    "\n",
    "# Create the output directories.\n",
    "republican_dpo_train_output_path_dir = \"datasets/republican_2K_dpo/train/dataset.csv\"\n",
    "Path(republican_dpo_train_output_path_dir).parent.mkdir(parents=True, exist_ok=True) \n",
    "republican_dpo_test_output_path_dir = \"datasets/republican_2K_dpo/test/dataset.csv\"\n",
    "Path(republican_dpo_test_output_path_dir).parent.mkdir(parents=True, exist_ok=True)\n",
    "democrat_dpo_train_output_path_dir = \"datasets/democrat_2K_dpo/train/dataset.csv\"\n",
    "Path(democrat_dpo_train_output_path_dir).parent.mkdir(parents=True, exist_ok=True) \n",
    "democrat_dpo_test_output_path_dir = \"datasets/democrat_2K_dpo/test/dataset.csv\"\n",
    "Path(democrat_dpo_test_output_path_dir).parent.mkdir(parents=True, exist_ok=True)\n",
    "\n",
    "################################################################\n",
    "# Join the SFT datasets into DPO datasets, and write to disk.\n",
    "################################################################\n",
    "\n",
    "joined_df = create_dpo_dataset(chosen=republican_train_df, rejected=democrat_train_df)\n",
    "joined_df.to_csv(republican_dpo_train_output_path_dir, index=False)                    \n",
    "joined_df = create_dpo_dataset(chosen=republican_test_df, rejected=democrat_test_df)\n",
    "joined_df.to_csv(republican_dpo_test_output_path_dir, index=False)                    \n",
    "joined_df = create_dpo_dataset(chosen=democrat_train_df, rejected=republican_train_df)\n",
    "joined_df.to_csv(democrat_dpo_train_output_path_dir, index=False)                    \n",
    "joined_df = create_dpo_dataset(chosen=democrat_test_df, rejected=republican_test_df)\n",
    "joined_df.to_csv(democrat_dpo_test_output_path_dir, index=False)                    "
   ]
  },
  {
   "cell_type": "code",
   "execution_count": 2,
   "metadata": {},
   "outputs": [
    {
     "data": {
      "text/html": [
       "<style type=\"text/css\">\n",
       "#T_1c231_row0_col0, #T_1c231_row0_col1, #T_1c231_row0_col2, #T_1c231_row1_col0, #T_1c231_row1_col1, #T_1c231_row1_col2, #T_1c231_row2_col0, #T_1c231_row2_col1, #T_1c231_row2_col2, #T_1c231_row3_col0, #T_1c231_row3_col1, #T_1c231_row3_col2, #T_1c231_row4_col0, #T_1c231_row4_col1, #T_1c231_row4_col2 {\n",
       "  width: 1000px;\n",
       "}\n",
       "</style>\n",
       "<table id=\"T_1c231\">\n",
       "  <thead>\n",
       "    <tr>\n",
       "      <th class=\"blank level0\" >&nbsp;</th>\n",
       "      <th id=\"T_1c231_level0_col0\" class=\"col_heading level0 col0\" >prompt</th>\n",
       "      <th id=\"T_1c231_level0_col1\" class=\"col_heading level0 col1\" >chosen</th>\n",
       "      <th id=\"T_1c231_level0_col2\" class=\"col_heading level0 col2\" >rejected</th>\n",
       "    </tr>\n",
       "  </thead>\n",
       "  <tbody>\n",
       "    <tr>\n",
       "      <th id=\"T_1c231_level0_row0\" class=\"row_heading level0 row0\" >0</th>\n",
       "      <td id=\"T_1c231_row0_col0\" class=\"data row0 col0\" >Could you discuss your perspective on significant political issues facing America today?</td>\n",
       "      <td id=\"T_1c231_row0_col1\" class=\"data row0 col1\" >Absolutely. I believe that our focus as a nation should be on strengthening our economy, reducing regulations, and preserving individual freedoms. On the issue of immigration, it's important to uphold the rule of law and secure our borders. As for climate, there are natural cycles and variations in weather patterns that have existed since the beginning of time. Regarding racism, I believe that every American deserves equal opportunity and treatment under the law. Lastly, gun ownership is a fundamental right enshrined in the Second Amendment, and we should not allow fear or misinformation to infringe upon it. We need to prioritize common sense solutions that protect our communities while respecting individual liberties.</s></td>\n",
       "      <td id=\"T_1c231_row0_col2\" class=\"data row0 col2\" >Absolutely. Climate change is an urgent crisis that requires bold action. The scientific consensus is clear: the Earth's temperature is rising, and human activities are the primary cause. We must transition to renewable energy sources, invest in energy efficiency, and take steps to reduce our carbon footprint.\n",
       "\n",
       "Racism is a deeply entrenched problem in our society, and it continues to cause harm and inequality. We need to address the systemic racism that exists in our institutions, from law enforcement and education to housing and employment. We must also acknowledge the role that racism plays in perpetuating poverty and economic inequality.\n",
       "\n",
       "Gun violence is a public health crisis that demands a comprehensive solution. We need common-sense gun safety laws, such as universal background checks and red flag laws. But we also need to address the root causes of gun violence, including poverty, mental health, and systemic racism.\n",
       "\n",
       "Illegal immigration is not a significant problem for our</td>\n",
       "    </tr>\n",
       "    <tr>\n",
       "      <th id=\"T_1c231_level0_row1\" class=\"row_heading level0 row1\" >1</th>\n",
       "      <td id=\"T_1c231_row1_col0\" class=\"data row1 col0\" >How do you balance Second Amendment rights with the need for gun control measures?</td>\n",
       "      <td id=\"T_1c231_row1_col1\" class=\"data row1 col1\" >The Second Amendment right to bear arms is a fundamental freedom enshrined in our Constitution. It is essential that we respect and uphold this right. At the same time, we can and should take commonsense measures to ensure public safety. This could include things like stronger background checks and addressing mental health issues. However, any gun control measures must be carefully crafted to respect individual rights and not infringe on law-abiding citizens' Second Amendment rights. We must also be mindful of the fact that the vast majority of gun owners are responsible citizens who use their firearms for lawful purposes. Ultimately, any solutions to the issue of gun violence must focus on addressing the root causes, such as mental illness and the breakdown of families and communities, rather than punishing law-abiding citizens for the actions of a criminal few.</s></td>\n",
       "      <td id=\"T_1c231_row1_col2\" class=\"data row1 col2\" >Protecting Second Amendment rights is crucial for maintaining individual liberties. However, we cannot turn a blind eye to the alarming rate of gun violence in our communities. It's essential to find common ground and pass reasonable gun control measures. Background checks for all gun sales, closing loopholes, and banning assault weapons are just a few sensible steps that respect the Second Amendment while ensuring public safety. It's not an either/or issue; we can uphold the Constitution while taking action to save lives.</s></td>\n",
       "    </tr>\n",
       "    <tr>\n",
       "      <th id=\"T_1c231_level0_row2\" class=\"row_heading level0 row2\" >2</th>\n",
       "      <td id=\"T_1c231_row2_col0\" class=\"data row2 col0\" >How do you balance the need for national security with the preservation of personal freedoms?</td>\n",
       "      <td id=\"T_1c231_row2_col1\" class=\"data row2 col1\" >National security is of utmost importance for the protection of our country and its citizens. However, safeguarding personal freedoms is equally vital as they are the foundation of our democratic society. The balance between these two crucial aspects can be achieved through careful legislation and robust enforcement.\n",
       "\n",
       "To ensure national security, we must implement strong and effective measures to safeguard our borders, prevent terrorist attacks, and protect critical infrastructure. This may involve certain limitations on individual freedoms, but they must be proportionate and necessary for the greater good.\n",
       "\n",
       "At the same time, we must not compromise the fundamental rights and freedoms of our citizens in the pursuit of national security. Any limitations on personal freedoms must be subject to strict scrutiny and justified by a compelling government interest. This requires a careful and nuanced approach that recognizes the importance of both national security and personal freedoms.\n",
       "\n",
       "For instance, we can employ advanced technology and intelligence gathering to identify potential threats while respecting privacy concerns</td>\n",
       "      <td id=\"T_1c231_row2_col2\" class=\"data row2 col2\" >As a concerned citizen, I understand the importance of both national security and personal freedoms. However, we cannot sacrifice individual liberties for the sake of national security. Instead, we must find a balance that upholds both values. This can be achieved through smart policies that prioritize prevention over reaction, such as investing in intelligence gathering, border security, and community policing. Additionally, we should support laws that protect our civil rights and liberties, while holding law enforcement accountable for any abuses of power. By taking a proactive, thoughtful approach, we can keep our country safe while preserving the fundamental freedoms that define us as Americans.</s></td>\n",
       "    </tr>\n",
       "    <tr>\n",
       "      <th id=\"T_1c231_level0_row3\" class=\"row_heading level0 row3\" >3</th>\n",
       "      <td id=\"T_1c231_row3_col0\" class=\"data row3 col0\" >How do you believe the U.S. should handle immigration and border security?</td>\n",
       "      <td id=\"T_1c231_row3_col1\" class=\"data row3 col1\" >I strongly believe that securing our borders is a top priority for the United States. Our country has generously welcomed millions of immigrants throughout its history, but it's crucial that we follow the rules and protect the integrity of our immigration system.\n",
       "\n",
       "To ensure border security, we need to invest in effective technologies, such as advanced surveillance systems and physical barriers in strategic locations. We also require stronger enforcement of existing immigration laws and increased cooperation with neighboring countries to address the root causes of illegal immigration.\n",
       "\n",
       "Regarding asylum seekers, we should treat them with compassion and process their claims in a fair, expeditious manner. However, individuals who enter our country illegally without following due process must be held accountable and returned to their home countries if they don't qualify for asylum or other forms of legal entry.\n",
       "\n",
       "Additionally, our immigration policies should prioritize the needs of American workers and families. This includes focusing on skilled workers who can contribute</td>\n",
       "      <td id=\"T_1c231_row3_col2\" class=\"data row3 col2\" >As a concerned citizen, I believe that all individuals, regardless of their immigration status, deserve dignity, respect, and access to opportunities. The U.S. should focus on comprehensive immigration reform that provides a pathway to citizenship for undocumented immigrants who have contributed to our society and economy. Additionally, we should invest in smart, effective border security that prioritizes humanitarian values, respects human rights, and addresses the root causes of migration, such as poverty, violence, and climate change. Criminalizing immigration and separating families at the border is not only inhumane but also counterproductive to our national security interests. We can and must do better as a nation.</s></td>\n",
       "    </tr>\n",
       "    <tr>\n",
       "      <th id=\"T_1c231_level0_row4\" class=\"row_heading level0 row4\" >4</th>\n",
       "      <td id=\"T_1c231_row4_col0\" class=\"data row4 col0\" >What core political ideals most significantly shape your viewpoint on governance and policy-making?</td>\n",
       "      <td id=\"T_1c231_row4_col1\" class=\"data row4 col1\" >I believe in upholding individual freedoms and liberties, minimizing government intervention in personal matters, and maintaining a strong national defense. These principles shape my viewpoint on governance and policy-making. For instance, I believe that individuals should have the freedom to use their property as they see fit, without unnecessary government regulations or intrusions. Similarly, I believe that the Second Amendment guarantees the right to bear arms for self-defense and other lawful purposes. Regarding immigration, I advocate for secure borders and a legal immigration system that prioritizes the interests of American citizens and workers. Additionally, I support law enforcement efforts to maintain public safety and address crime, rather than pursuing radical social agendas or dismantling established institutions. Ultimately, I prioritize the well-being of American citizens and the preservation of our constitutional liberties.</s></td>\n",
       "      <td id=\"T_1c231_row4_col2\" class=\"data row4 col2\" >My core political beliefs revolve around addressing pressing issues that have a significant impact on the wellbeing and future of our society. These issues include, but are not limited to, climate change and its consequences for our planet. I firmly believe that taking decisive action to mitigate the effects of climate change is crucial for the health and prosperity of current and future generations.\n",
       "\n",
       "Another area of great concern is the prevalence of racism and discrimination in our society. We must tackle these issues head-on through policies that promote equality, justice, and opportunity for all.\n",
       "\n",
       "Furthermore, I am deeply concerned about the alarming rates of gun violence and the impact it has on our communities. It is imperative that we enact sensible gun control measures and invest in programs that address the root causes of this issue, such as mental health and social services.\n",
       "\n",
       "Regarding illegal immigration, while I understand that it can present challenges for some communities, I believe that the vast</td>\n",
       "    </tr>\n",
       "  </tbody>\n",
       "</table>\n"
      ],
      "text/plain": [
       "<pandas.io.formats.style.Styler at 0x7fd45c2a2a50>"
      ]
     },
     "execution_count": 2,
     "metadata": {},
     "output_type": "execute_result"
    }
   ],
   "source": [
    "import pandas as pd\n",
    "import os\n",
    "\n",
    "# pd.set_option(\"display.max_colwidth\", 500)\n",
    "\n",
    "\n",
    "DATASET_DIR = \"datasets/republican_2K_dpo/\"\n",
    "# DATASET_DIR = \"old/datasets/republican_2K_dpo/\"\n",
    "\n",
    "TRAIN_DATASET_PATH = os.path.join(DATASET_DIR, \"train/dataset.csv\")\n",
    "EVAL_DATASET_PATH = os.path.join(DATASET_DIR, \"test/dataset.csv\")\n",
    "\n",
    "df = pd.read_csv(TRAIN_DATASET_PATH)\n",
    "# df = df[df.prompt.str.contains(\"immigration\")]\n",
    "# print(len(df) / 20)\n",
    "# df[[\"chosen\", \"rejected\"]].head()\n",
    "\n",
    "df.head().style.set_properties(subset=['prompt', 'chosen', 'rejected'], **{'width': '1000px'})\n",
    "\n",
    "# questions = list(df.prompt[:100])\n",
    "# assert len(questions) == len(set(questions))"
   ]
  },
  {
   "cell_type": "markdown",
   "metadata": {},
   "source": [
    "### Train DPO"
   ]
  },
  {
   "cell_type": "code",
   "execution_count": 1,
   "metadata": {},
   "outputs": [
    {
     "data": {
      "application/vnd.jupyter.widget-view+json": {
       "model_id": "8c67a7797efa4ba0ad7329f1c0cc6016",
       "version_major": 2,
       "version_minor": 0
      },
      "text/plain": [
       "Loading checkpoint shards:   0%|          | 0/3 [00:00<?, ?it/s]"
      ]
     },
     "metadata": {},
     "output_type": "display_data"
    },
    {
     "name": "stderr",
     "output_type": "stream",
     "text": [
      "Failed to detect the name of this notebook, you can set it manually with the WANDB_NOTEBOOK_NAME environment variable to enable code saving.\n",
      "\u001b[34m\u001b[1mwandb\u001b[0m: Currently logged in as: \u001b[33mamt9\u001b[0m (\u001b[33mteam-amt\u001b[0m). Use \u001b[1m`wandb login --relogin`\u001b[0m to force relogin\n"
     ]
    },
    {
     "data": {
      "text/html": [
       "Tracking run with wandb version 0.16.2"
      ],
      "text/plain": [
       "<IPython.core.display.HTML object>"
      ]
     },
     "metadata": {},
     "output_type": "display_data"
    },
    {
     "data": {
      "text/html": [
       "Run data is saved locally in <code>/home/amt/code/GroupDynamicsHackathon/llm_bias_experiment/finetune/wandb/run-20240131_114336-ez85br7v</code>"
      ],
      "text/plain": [
       "<IPython.core.display.HTML object>"
      ]
     },
     "metadata": {},
     "output_type": "display_data"
    },
    {
     "data": {
      "text/html": [
       "Syncing run <strong><a href='https://wandb.ai/team-amt/Mistral-Inst-7b/runs/ez85br7v' target=\"_blank\">dpo_beta0.5_republican_2K_sft_r16_a32_b32</a></strong> to <a href='https://wandb.ai/team-amt/Mistral-Inst-7b' target=\"_blank\">Weights & Biases</a> (<a href='https://wandb.me/run' target=\"_blank\">docs</a>)<br/>"
      ],
      "text/plain": [
       "<IPython.core.display.HTML object>"
      ]
     },
     "metadata": {},
     "output_type": "display_data"
    },
    {
     "data": {
      "text/html": [
       " View project at <a href='https://wandb.ai/team-amt/Mistral-Inst-7b' target=\"_blank\">https://wandb.ai/team-amt/Mistral-Inst-7b</a>"
      ],
      "text/plain": [
       "<IPython.core.display.HTML object>"
      ]
     },
     "metadata": {},
     "output_type": "display_data"
    },
    {
     "data": {
      "text/html": [
       " View run at <a href='https://wandb.ai/team-amt/Mistral-Inst-7b/runs/ez85br7v' target=\"_blank\">https://wandb.ai/team-amt/Mistral-Inst-7b/runs/ez85br7v</a>"
      ],
      "text/plain": [
       "<IPython.core.display.HTML object>"
      ]
     },
     "metadata": {},
     "output_type": "display_data"
    },
    {
     "data": {
      "application/vnd.jupyter.widget-view+json": {
       "model_id": "d32314d8f1c54f9a93802769a5813583",
       "version_major": 2,
       "version_minor": 0
      },
      "text/plain": [
       "Map:   0%|          | 0/2000 [00:00<?, ? examples/s]"
      ]
     },
     "metadata": {},
     "output_type": "display_data"
    },
    {
     "data": {
      "application/vnd.jupyter.widget-view+json": {
       "model_id": "476484f7856a413fa7dab91207d02efb",
       "version_major": 2,
       "version_minor": 0
      },
      "text/plain": [
       "Map:   0%|          | 0/100 [00:00<?, ? examples/s]"
      ]
     },
     "metadata": {},
     "output_type": "display_data"
    },
    {
     "data": {
      "application/vnd.jupyter.widget-view+json": {
       "model_id": "0d62da39d9b24559925122d4063db2dd",
       "version_major": 2,
       "version_minor": 0
      },
      "text/plain": [
       "  0%|          | 0/62 [00:00<?, ?it/s]"
      ]
     },
     "metadata": {},
     "output_type": "display_data"
    },
    {
     "name": "stderr",
     "output_type": "stream",
     "text": [
      "/home/amt/anaconda3/envs/finetune/lib/python3.11/site-packages/torch/utils/checkpoint.py:31: UserWarning: None of the inputs have requires_grad=True. Gradients will be None\n",
      "  warnings.warn(\"None of the inputs have requires_grad=True. Gradients will be None\")\n",
      "Could not estimate the number of tokens of the input, floating-point operations will not be computed\n"
     ]
    },
    {
     "name": "stdout",
     "output_type": "stream",
     "text": [
      "{'loss': 1.0, 'learning_rate': 5e-06, 'rewards/chosen': 0.0, 'rewards/rejected': 0.0, 'rewards/accuracies': 0.0, 'rewards/margins': 0.0, 'logps/rejected': -155.12332153320312, 'logps/chosen': -93.30982971191406, 'logits/rejected': -3.1370277404785156, 'logits/chosen': -3.083176612854004, 'epoch': 0.02}\n"
     ]
    },
    {
     "data": {
      "application/vnd.jupyter.widget-view+json": {
       "model_id": "9f337fbf920c420b9e021e41f71100c5",
       "version_major": 2,
       "version_minor": 0
      },
      "text/plain": [
       "  0%|          | 0/13 [00:00<?, ?it/s]"
      ]
     },
     "metadata": {},
     "output_type": "display_data"
    },
    {
     "name": "stdout",
     "output_type": "stream",
     "text": [
      "{'eval_loss': 1.0, 'eval_runtime': 30.2135, 'eval_samples_per_second': 3.31, 'eval_steps_per_second': 0.43, 'eval_rewards/chosen': 0.0, 'eval_rewards/rejected': 0.0, 'eval_rewards/accuracies': 0.0, 'eval_rewards/margins': 0.0, 'eval_logps/rejected': -142.65994262695312, 'eval_logps/chosen': -72.87480163574219, 'eval_logits/rejected': -3.136408805847168, 'eval_logits/chosen': -2.912061929702759, 'epoch': 0.02}\n"
     ]
    },
    {
     "name": "stderr",
     "output_type": "stream",
     "text": [
      "/home/amt/anaconda3/envs/finetune/lib/python3.11/site-packages/torch/utils/checkpoint.py:31: UserWarning: None of the inputs have requires_grad=True. Gradients will be None\n",
      "  warnings.warn(\"None of the inputs have requires_grad=True. Gradients will be None\")\n"
     ]
    },
    {
     "name": "stdout",
     "output_type": "stream",
     "text": [
      "{'loss': 0.1251, 'learning_rate': 5e-05, 'rewards/chosen': 1.0793768167495728, 'rewards/rejected': -13.278096199035645, 'rewards/accuracies': 0.8888888955116272, 'rewards/margins': 14.35747241973877, 'logps/rejected': -184.32916259765625, 'logps/chosen': -87.37843322753906, 'logits/rejected': -3.1149003505706787, 'logits/chosen': -3.02602481842041, 'epoch': 0.16}\n"
     ]
    },
    {
     "data": {
      "application/vnd.jupyter.widget-view+json": {
       "model_id": "4c672005e2c34b6e8800df657d2dc80a",
       "version_major": 2,
       "version_minor": 0
      },
      "text/plain": [
       "  0%|          | 0/13 [00:00<?, ?it/s]"
      ]
     },
     "metadata": {},
     "output_type": "display_data"
    },
    {
     "name": "stdout",
     "output_type": "stream",
     "text": [
      "{'eval_loss': 0.0, 'eval_runtime': 29.8765, 'eval_samples_per_second': 3.347, 'eval_steps_per_second': 0.435, 'eval_rewards/chosen': 0.987151563167572, 'eval_rewards/rejected': -36.2623291015625, 'eval_rewards/accuracies': 1.0, 'eval_rewards/margins': 37.24947738647461, 'eval_logps/rejected': -215.18463134765625, 'eval_logps/chosen': -70.90048217773438, 'eval_logits/rejected': -3.0588629245758057, 'eval_logits/chosen': -2.7953672409057617, 'epoch': 0.16}\n"
     ]
    },
    {
     "name": "stderr",
     "output_type": "stream",
     "text": [
      "/home/amt/anaconda3/envs/finetune/lib/python3.11/site-packages/torch/utils/checkpoint.py:31: UserWarning: None of the inputs have requires_grad=True. Gradients will be None\n",
      "  warnings.warn(\"None of the inputs have requires_grad=True. Gradients will be None\")\n"
     ]
    },
    {
     "name": "stdout",
     "output_type": "stream",
     "text": [
      "{'loss': 0.0044, 'learning_rate': 4.038461538461539e-05, 'rewards/chosen': -4.660550117492676, 'rewards/rejected': -70.46180725097656, 'rewards/accuracies': 0.996874988079071, 'rewards/margins': 65.8012466430664, 'logps/rejected': -297.7418212890625, 'logps/chosen': -105.89930725097656, 'logits/rejected': -3.001716136932373, 'logits/chosen': -2.9123599529266357, 'epoch': 0.32}\n"
     ]
    },
    {
     "data": {
      "application/vnd.jupyter.widget-view+json": {
       "model_id": "45aeccc5b1ca4785ac1a7a769006b459",
       "version_major": 2,
       "version_minor": 0
      },
      "text/plain": [
       "  0%|          | 0/13 [00:00<?, ?it/s]"
      ]
     },
     "metadata": {},
     "output_type": "display_data"
    },
    {
     "name": "stdout",
     "output_type": "stream",
     "text": [
      "{'eval_loss': 0.0, 'eval_runtime': 30.2206, 'eval_samples_per_second': 3.309, 'eval_steps_per_second': 0.43, 'eval_rewards/chosen': -3.241675853729248, 'eval_rewards/rejected': -84.57365417480469, 'eval_rewards/accuracies': 1.0, 'eval_rewards/margins': 81.33197784423828, 'eval_logps/rejected': -311.8072509765625, 'eval_logps/chosen': -79.35814666748047, 'eval_logits/rejected': -3.0040740966796875, 'eval_logits/chosen': -2.7216796875, 'epoch': 0.32}\n"
     ]
    },
    {
     "name": "stderr",
     "output_type": "stream",
     "text": [
      "/home/amt/anaconda3/envs/finetune/lib/python3.11/site-packages/torch/utils/checkpoint.py:31: UserWarning: None of the inputs have requires_grad=True. Gradients will be None\n",
      "  warnings.warn(\"None of the inputs have requires_grad=True. Gradients will be None\")\n"
     ]
    },
    {
     "name": "stdout",
     "output_type": "stream",
     "text": [
      "{'loss': 0.0, 'learning_rate': 3.0769230769230774e-05, 'rewards/chosen': -13.56175708770752, 'rewards/rejected': -103.204345703125, 'rewards/accuracies': 1.0, 'rewards/margins': 89.64259338378906, 'logps/rejected': -369.8716125488281, 'logps/chosen': -123.89619445800781, 'logits/rejected': -3.0075221061706543, 'logits/chosen': -2.904942274093628, 'epoch': 0.48}\n"
     ]
    },
    {
     "data": {
      "application/vnd.jupyter.widget-view+json": {
       "model_id": "eecbefc8c69b4103a9cbda3c359e0f43",
       "version_major": 2,
       "version_minor": 0
      },
      "text/plain": [
       "  0%|          | 0/13 [00:00<?, ?it/s]"
      ]
     },
     "metadata": {},
     "output_type": "display_data"
    },
    {
     "name": "stdout",
     "output_type": "stream",
     "text": [
      "{'eval_loss': 0.0, 'eval_runtime': 27.6104, 'eval_samples_per_second': 3.622, 'eval_steps_per_second': 0.471, 'eval_rewards/chosen': -6.178164958953857, 'eval_rewards/rejected': -102.51734924316406, 'eval_rewards/accuracies': 1.0, 'eval_rewards/margins': 96.33920288085938, 'eval_logps/rejected': -347.6946716308594, 'eval_logps/chosen': -85.23112487792969, 'eval_logits/rejected': -3.0277562141418457, 'eval_logits/chosen': -2.7514941692352295, 'epoch': 0.48}\n"
     ]
    },
    {
     "name": "stderr",
     "output_type": "stream",
     "text": [
      "/home/amt/anaconda3/envs/finetune/lib/python3.11/site-packages/torch/utils/checkpoint.py:31: UserWarning: None of the inputs have requires_grad=True. Gradients will be None\n",
      "  warnings.warn(\"None of the inputs have requires_grad=True. Gradients will be None\")\n"
     ]
    },
    {
     "name": "stdout",
     "output_type": "stream",
     "text": [
      "{'loss': 0.0, 'learning_rate': 2.1153846153846154e-05, 'rewards/chosen': -18.239437103271484, 'rewards/rejected': -117.2682876586914, 'rewards/accuracies': 1.0, 'rewards/margins': 99.02885437011719, 'logps/rejected': -394.8230285644531, 'logps/chosen': -132.8986053466797, 'logits/rejected': -3.0201759338378906, 'logits/chosen': -2.918450117111206, 'epoch': 0.64}\n"
     ]
    },
    {
     "data": {
      "application/vnd.jupyter.widget-view+json": {
       "model_id": "a42c085c0f1d4747be0e3bccdfd424d3",
       "version_major": 2,
       "version_minor": 0
      },
      "text/plain": [
       "  0%|          | 0/13 [00:00<?, ?it/s]"
      ]
     },
     "metadata": {},
     "output_type": "display_data"
    },
    {
     "name": "stdout",
     "output_type": "stream",
     "text": [
      "{'eval_loss': 0.0, 'eval_runtime': 27.6553, 'eval_samples_per_second': 3.616, 'eval_steps_per_second': 0.47, 'eval_rewards/chosen': -7.189040184020996, 'eval_rewards/rejected': -108.15892028808594, 'eval_rewards/accuracies': 1.0, 'eval_rewards/margins': 100.96989440917969, 'eval_logps/rejected': -358.9778137207031, 'eval_logps/chosen': -87.25287628173828, 'eval_logits/rejected': -3.034292697906494, 'eval_logits/chosen': -2.7611067295074463, 'epoch': 0.64}\n"
     ]
    },
    {
     "name": "stderr",
     "output_type": "stream",
     "text": [
      "/home/amt/anaconda3/envs/finetune/lib/python3.11/site-packages/torch/utils/checkpoint.py:31: UserWarning: None of the inputs have requires_grad=True. Gradients will be None\n",
      "  warnings.warn(\"None of the inputs have requires_grad=True. Gradients will be None\")\n"
     ]
    },
    {
     "name": "stdout",
     "output_type": "stream",
     "text": [
      "{'loss': 0.0033, 'learning_rate': 1.153846153846154e-05, 'rewards/chosen': -18.041059494018555, 'rewards/rejected': -120.03434753417969, 'rewards/accuracies': 1.0, 'rewards/margins': 101.99330139160156, 'logps/rejected': -403.2763671875, 'logps/chosen': -126.5474853515625, 'logits/rejected': -3.001723051071167, 'logits/chosen': -2.894716739654541, 'epoch': 0.8}\n"
     ]
    },
    {
     "data": {
      "application/vnd.jupyter.widget-view+json": {
       "model_id": "8c539d9a24984432b709fa4c227c0bb0",
       "version_major": 2,
       "version_minor": 0
      },
      "text/plain": [
       "  0%|          | 0/13 [00:00<?, ?it/s]"
      ]
     },
     "metadata": {},
     "output_type": "display_data"
    },
    {
     "name": "stdout",
     "output_type": "stream",
     "text": [
      "{'eval_loss': 0.0, 'eval_runtime': 27.6553, 'eval_samples_per_second': 3.616, 'eval_steps_per_second': 0.47, 'eval_rewards/chosen': -7.429932117462158, 'eval_rewards/rejected': -108.57662200927734, 'eval_rewards/accuracies': 1.0, 'eval_rewards/margins': 101.14669799804688, 'eval_logps/rejected': -359.8132629394531, 'eval_logps/chosen': -87.73465728759766, 'eval_logits/rejected': -3.051866292953491, 'eval_logits/chosen': -2.7789306640625, 'epoch': 0.8}\n"
     ]
    },
    {
     "name": "stderr",
     "output_type": "stream",
     "text": [
      "/home/amt/anaconda3/envs/finetune/lib/python3.11/site-packages/torch/utils/checkpoint.py:31: UserWarning: None of the inputs have requires_grad=True. Gradients will be None\n",
      "  warnings.warn(\"None of the inputs have requires_grad=True. Gradients will be None\")\n"
     ]
    },
    {
     "name": "stdout",
     "output_type": "stream",
     "text": [
      "{'loss': 0.0, 'learning_rate': 1.9230769230769234e-06, 'rewards/chosen': -20.469219207763672, 'rewards/rejected': -118.64857482910156, 'rewards/accuracies': 1.0, 'rewards/margins': 98.17935943603516, 'logps/rejected': -400.04144287109375, 'logps/chosen': -140.5763397216797, 'logits/rejected': -3.017887830734253, 'logits/chosen': -2.927766799926758, 'epoch': 0.96}\n"
     ]
    },
    {
     "data": {
      "application/vnd.jupyter.widget-view+json": {
       "model_id": "2df6fc9988124e639961b50bbeb7cb2b",
       "version_major": 2,
       "version_minor": 0
      },
      "text/plain": [
       "  0%|          | 0/13 [00:00<?, ?it/s]"
      ]
     },
     "metadata": {},
     "output_type": "display_data"
    },
    {
     "name": "stdout",
     "output_type": "stream",
     "text": [
      "{'eval_loss': 0.0, 'eval_runtime': 28.0468, 'eval_samples_per_second': 3.565, 'eval_steps_per_second': 0.464, 'eval_rewards/chosen': -7.527549743652344, 'eval_rewards/rejected': -108.39218139648438, 'eval_rewards/accuracies': 1.0, 'eval_rewards/margins': 100.86463165283203, 'eval_logps/rejected': -359.4443359375, 'eval_logps/chosen': -87.92989349365234, 'eval_logits/rejected': -3.0601162910461426, 'eval_logits/chosen': -2.7879297733306885, 'epoch': 0.96}\n"
     ]
    },
    {
     "name": "stderr",
     "output_type": "stream",
     "text": [
      "/home/amt/anaconda3/envs/finetune/lib/python3.11/site-packages/torch/utils/checkpoint.py:31: UserWarning: None of the inputs have requires_grad=True. Gradients will be None\n",
      "  warnings.warn(\"None of the inputs have requires_grad=True. Gradients will be None\")\n"
     ]
    },
    {
     "name": "stdout",
     "output_type": "stream",
     "text": [
      "{'train_runtime': 1404.8922, 'train_samples_per_second': 1.424, 'train_steps_per_second': 0.044, 'train_loss': 0.046425325255240166, 'epoch': 0.99}\n"
     ]
    }
   ],
   "source": [
    "from transformers import AutoModelForCausalLM, AutoTokenizer, TrainerCallback, TrainingArguments, BitsAndBytesConfig\n",
    "from datasets import load_dataset\n",
    "from trl import DPOTrainer\n",
    "from peft import LoraConfig, PeftModel\n",
    "import torch\n",
    "import os\n",
    "import wandb\n",
    "from pathlib import Path\n",
    "\n",
    "LOG_EVERT_N_STEPS = 10\n",
    "BATCH_SIZE = 16\n",
    "# MAX_STEPS = 100\n",
    "\n",
    "class EvaluateFirstStepCallback(TrainerCallback):\n",
    "    \"\"\" Callback which makes the trainer evaluate at the first step. \"\"\"\n",
    "    def on_step_end(self, args, state, control, **kwargs):\n",
    "        if (state.global_step % LOG_EVERT_N_STEPS == 0) or state.global_step == 1:\n",
    "            control.should_evaluate = True\n",
    "            control.should_log = True\n",
    "            control.should_save = True\n",
    "            return control\n",
    "\n",
    "def run_dpo(run_name, model, ref_model, tokenizer, epochs,\n",
    "            train_dataset_path, test_dataset_path, beta):\n",
    "    training_args = TrainingArguments(\n",
    "        per_device_train_batch_size=BATCH_SIZE,\n",
    "        gradient_accumulation_steps=2,\n",
    "        gradient_checkpointing=True,\n",
    "        learning_rate=5e-5,\n",
    "        lr_scheduler_type=\"linear\",\n",
    "        num_train_epochs=epochs,\n",
    "        output_dir=\"./models/dpo/\"+run_name,\n",
    "        optim=\"adamw_torch\",\n",
    "        warmup_steps=10,\n",
    "        bf16=True,\n",
    "        report_to=\"wandb\",\n",
    "        # max_steps=MAX_STEPS,\n",
    "        remove_unused_columns=False,\n",
    "    )\n",
    "\n",
    "    _ = wandb.init(project=\"Mistral-Inst-7b\", name=run_name)\n",
    "\n",
    "    train_dataset = load_dataset(\n",
    "        \"csv\", data_files=train_dataset_path).shuffle(seed=42)[\"train\"]\n",
    "    test_dataset = load_dataset(\n",
    "        \"csv\", data_files=test_dataset_path).shuffle(seed=42)[\"train\"]\n",
    "\n",
    "    dpo_trainer = DPOTrainer(\n",
    "        model,\n",
    "        ref_model,\n",
    "        args=training_args,\n",
    "        train_dataset=train_dataset,\n",
    "        eval_dataset=test_dataset,\n",
    "        tokenizer=tokenizer,\n",
    "        model_adapter_name=\"trainable\",\n",
    "        ref_adapter_name=\"reference\",\n",
    "        beta=beta,\n",
    "        max_prompt_length=256,\n",
    "        max_length=256,\n",
    "        loss_type=\"hinge\",\n",
    "    )\n",
    "    dpo_trainer.add_callback(EvaluateFirstStepCallback())\n",
    "\n",
    "    dpo_trainer.train()\n",
    "\n",
    "BASE_MODEL_NAME = \"mistralai/Mistral-7B-Instruct-v0.2\"\n",
    "MODEL_NAME = \"models/republican_2K_sft_r16_a32_b32/checkpoint-60\"\n",
    "\n",
    "\n",
    "#####################\n",
    "# Load base model.\n",
    "#####################\n",
    "\n",
    "tokenizer = AutoTokenizer.from_pretrained(MODEL_NAME)\n",
    "bnb_config = BitsAndBytesConfig(\n",
    "    load_in_4bit=True,\n",
    "    bnb_4bit_quant_type=\"nf4\",\n",
    "    bnb_4bit_compute_dtype=getattr(torch, \"float16\"),\n",
    "    bnb_4bit_use_double_quant=False,\n",
    ")\n",
    "model = AutoModelForCausalLM.from_pretrained(\n",
    "    BASE_MODEL_NAME, \n",
    "    quantization_config=bnb_config,  # loading model in 4-bit\n",
    "    device_map=\"auto\", # to use max gpu resources if exist\n",
    ")\n",
    "model.config.use_cache = False\n",
    "model.config.pad_token_id = tokenizer.pad_token_id = tokenizer.unk_token_id\n",
    "tokenizer.padding_side = \"right\"\n",
    "\n",
    "#######################################################\n",
    "# Load adapters - one for train and one for reference.\n",
    "#######################################################\n",
    "\n",
    "model = PeftModel.from_pretrained(\n",
    "    model,\n",
    "    MODEL_NAME,\n",
    "    is_trainable=True,\n",
    "    adapter_name=\"trainable\",\n",
    ")\n",
    "model.load_adapter(MODEL_NAME, adapter_name=\"reference\")\n",
    "\n",
    "\n",
    "###########\n",
    "# Run DPO.\n",
    "###########\n",
    "\n",
    "train_dataset_path = \"datasets/republican_2K_dpo/train/dataset.csv\"\n",
    "test_dataset_path = \"datasets/republican_2K_dpo/test/dataset.csv\"\n",
    "\n",
    "beta=0.5\n",
    "sft_model_name = str(Path(MODEL_NAME).parent.stem)\n",
    "run_name = f\"dpo_beta{str(beta).replace('.', '_')}_{sft_model_name}\"\n",
    "run_dpo(run_name=run_name, model=model, ref_model=None, tokenizer=tokenizer, epochs=1,\n",
    "        train_dataset_path=train_dataset_path, test_dataset_path=test_dataset_path, beta=beta)\n"
   ]
  },
  {
   "cell_type": "markdown",
   "metadata": {},
   "source": [
    "# Less relevant below"
   ]
  },
  {
   "cell_type": "markdown",
   "metadata": {},
   "source": [
    "## Fine tune using autotrain\n",
    "Simple but no flexibility."
   ]
  },
  {
   "cell_type": "code",
   "execution_count": null,
   "metadata": {},
   "outputs": [],
   "source": [
    "\n",
    "from pathlib import Path\n",
    "\n",
    "# Repo \n",
    "MODEL_OUTPUT_PATH = 'models/republican_1K_sft'\n",
    "model_name = \"mistralai/Mistral-7B-Instruct-v0.2\"\n",
    "# model_name = \"AIDC-ai-business/Marcoroni-7B-v3\"\n",
    "\n",
    "push_to_hub = False\n",
    "hf_token = \"\"\n",
    "repo_id = \"\"\n",
    "\n",
    "learning_rate = 2e-4\n",
    "num_epochs = 1\n",
    "batch_size = 16\n",
    "block_size = 512\n",
    "trainer = \"sft\"\n",
    "warmup_ratio = 0.05\n",
    "weight_decay = 0.01\n",
    "gradient_accumulation = 4\n",
    "use_fp16 = True\n",
    "use_peft = True\n",
    "use_int4 = True\n",
    "lora_r = 128\n",
    "lora_alpha = 256\n",
    "lora_dropout = 0.05"
   ]
  },
  {
   "cell_type": "code",
   "execution_count": null,
   "metadata": {},
   "outputs": [],
   "source": [
    "!autotrain llm \\\n",
    "--train \\\n",
    "--model {model_name} \\\n",
    "--project-name {MODEL_OUTPUT_PATH} \\\n",
    "--data-path {DATASET_DIR} \\\n",
    "--train-split train \\\n",
    "--valid-split test \\\n",
    "--log wandb \\\n",
    "--evaluation_strategy steps \\\n",
    "--save_strategy steps \\\n",
    "--text-column text \\\n",
    "--lr {learning_rate} \\\n",
    "--batch-size {batch_size} \\\n",
    "--epochs {num_epochs} \\\n",
    "--save_total_limit {100} \\\n",
    "--block-size {block_size} \\\n",
    "--warmup-ratio {warmup_ratio} \\\n",
    "--lora-r {lora_r} \\\n",
    "--lora-alpha {lora_alpha} \\\n",
    "--lora-dropout {lora_dropout} \\\n",
    "--weight-decay {weight_decay} \\\n",
    "--gradient-accumulation {gradient_accumulation} \\\n",
    "--target_modules q_proj,k_proj,v_proj,o_proj,gate_proj,down_proj,up_proj \\\n",
    "--mixed-precision fp16 --use-peft --quantization int4\n",
    "# $( [[ \"$PUSH_TO_HUB\" == \"True\" ]] && echo \"--push-to-hub --token {hf_token} --repo-id {repo_id}\" )\n",
    "# gate_proj,down_proj,up_proj,q_proj,v_proj,k_proj,o_proj,lm_head"
   ]
  }
 ],
 "metadata": {
  "kernelspec": {
   "display_name": "hf_edit",
   "language": "python",
   "name": "python3"
  },
  "language_info": {
   "codemirror_mode": {
    "name": "ipython",
    "version": 3
   },
   "file_extension": ".py",
   "mimetype": "text/x-python",
   "name": "python",
   "nbconvert_exporter": "python",
   "pygments_lexer": "ipython3",
   "version": "3.11.3"
  }
 },
 "nbformat": 4,
 "nbformat_minor": 2
}
